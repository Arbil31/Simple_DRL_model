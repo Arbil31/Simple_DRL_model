{
 "cells": [
  {
   "cell_type": "code",
   "execution_count": 1,
   "metadata": {},
   "outputs": [],
   "source": [
    "import torch \n",
    "import torch.nn as nn\n",
    "from utils import init                                   # import it from utils.py or uncomment the (def init()-- function)\n",
    "from torch.utils.data import WeightedRandomSampler\n",
    "from torch.distributions import Categorical"
   ]
  },
  {
   "cell_type": "code",
   "execution_count": 4,
   "metadata": {},
   "outputs": [],
   "source": [
    "device = torch.device(\"cuda\" if torch.cuda.is_available() else \"cpu\")"
   ]
  },
  {
   "cell_type": "code",
   "execution_count": 2,
   "metadata": {},
   "outputs": [],
   "source": [
    "class _Categorical(Categorical):\n",
    "    \"\"\"\n",
    "    a son class inherit from class torch.distributions.Categorical\n",
    "    it adds a gumbel softmax sample method, for gumbel softmax sample\n",
    "    and a mode method for argmax sample\n",
    "    \"\"\"\n",
    "\n",
    "    def __init__(self, _logits):\n",
    "        super(_Categorical, self).__init__(logits=_logits)\n",
    "        self._logits = self.logits\n",
    "        self.weighted_sampler = WeightedRandomSampler\n",
    "\n",
    "    def gumbel_softmax_sample(self, tau, device):\n",
    "        dist = F.gumbel_softmax(self._logits, tau=tau, hard=False)\n",
    "        action = torch.tensor(list(self.weighted_sampler(dist, 1, replacement=False))).to(device)\n",
    "        return action.squeeze(-1)\n",
    "\n",
    "    def mode(self):\n",
    "        return torch.argmax(self._logits, dim=-1, keepdim=False)\n",
    "\n",
    "\n",
    "class MultiHeadCategorical(nn.Module):\n",
    "    \"\"\"\n",
    "    define a multi-head Categorical for multi-label classification\n",
    "    --init:\n",
    "    num_inputs: input feature dim\n",
    "    dim_vec: a list for dim of each action space, e.g. [2,3,5], 2-dim for action1, 3-dim for action2, 5-dim for action3\n",
    "    device: running device\n",
    "    --forward:\n",
    "    inputs: flatten input feature\n",
    "    \"\"\"\n",
    "\n",
    "    def __init__(self, num_inputs, action_num, action_dim, device):\n",
    "        super(MultiHeadCategorical, self).__init__()\n",
    "        init_ = lambda m: init(m,\n",
    "                               nn.init.orthogonal_,\n",
    "                               lambda x: nn.init.constant_(x, 0),\n",
    "                               gain=0.01)\n",
    "        self.action_num = action_dim\n",
    "        self.linear_list = torch.nn.ModuleList(\n",
    "            [init_(nn.Linear(num_inputs, action_dim).to(device)) for _ in range(action_num)])\n",
    "        self.action_num = action_num\n",
    "        self.logits_head = []\n",
    "        self.weight_sample = WeightedRandomSampler\n",
    "        self.device = device\n",
    "        self.categorical_list = []\n",
    "        self.train()\n",
    "\n",
    "    def forward(self, inputs):\n",
    "        self.categorical_list = [_Categorical(linear(inputs)) for linear in self.linear_list]\n",
    "\n",
    "        print(\"\\nCategorical distributions:\")\n",
    "        for i, dist in enumerate(self.categorical_list):\n",
    "            print(f\"Head {i}:\")\n",
    "            print(\" Sample:\", dist.sample())              # random action selection     dist.sample --- instance of the _Categorical class\n",
    "            print(\"Mode:\", dist.mode())                   # greedy action (highest probability)\n",
    "\n",
    "        return self.categorical_list"
   ]
  },
  {
   "cell_type": "code",
   "execution_count": 5,
   "metadata": {},
   "outputs": [
    {
     "name": "stdout",
     "output_type": "stream",
     "text": [
      "\n",
      "Categorical distributions:\n",
      "Head 0:\n",
      " Sample: tensor([1])\n",
      "Mode: tensor([2])\n",
      "Head 1:\n",
      " Sample: tensor([3])\n",
      "Mode: tensor([1])\n",
      "Head 2:\n",
      " Sample: tensor([1])\n",
      "Mode: tensor([3])\n",
      "Sampled actions: [tensor([2]), tensor([3]), tensor([2])]\n"
     ]
    }
   ],
   "source": [
    "model = MultiHeadCategorical(16, 3, 4, device)\n",
    "inputs = torch.randn(1, 16).to(device)\n",
    "\n",
    "model.forward(inputs)\n",
    "\n",
    "actions = [dist.sample() for dist in model.categorical_list]\n",
    "print(\"Sampled actions:\", actions)"
   ]
  },
  {
   "cell_type": "code",
   "execution_count": null,
   "metadata": {},
   "outputs": [],
   "source": []
  }
 ],
 "metadata": {
  "kernelspec": {
   "display_name": "Python 3",
   "language": "python",
   "name": "python3"
  },
  "language_info": {
   "codemirror_mode": {
    "name": "ipython",
    "version": 3
   },
   "file_extension": ".py",
   "mimetype": "text/x-python",
   "name": "python",
   "nbconvert_exporter": "python",
   "pygments_lexer": "ipython3",
   "version": "3.13.1"
  }
 },
 "nbformat": 4,
 "nbformat_minor": 2
}
