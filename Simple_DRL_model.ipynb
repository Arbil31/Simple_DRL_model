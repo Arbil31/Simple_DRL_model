{
 "cells": [
  {
   "cell_type": "code",
   "execution_count": null,
   "metadata": {},
   "outputs": [],
   "source": [
    "import torch\n",
    "import torch.nn as nn\n",
    "from torchsummary import summary\n",
    "\n",
    "class ActorCritic(nn.Module):\n",
    "    def __init__(self, input_dim, action_dim):\n",
    "        super().__init__()\n",
    "        self.fc1 = nn.Linear(input_dim, 64)\n",
    "        self.fc2 = nn.Linear(64, 64)\n",
    "        self.fc3 = nn.Linear(64, 64)\n",
    "        self.relu = nn.ReLU()\n",
    "        self.softmax = nn.Softmax(dim = -1)\n",
    "        self.actor = nn.Linear(64, action_dim)\n",
    "        self.critic = nn.Linear(64, 1)\n",
    "\n",
    "    def forward(self, x):\n",
    "        x = self.fc1(x)\n",
    "        x = self.relu(x)\n",
    "        x = self.fc2(x)\n",
    "        x = self.relu(x)\n",
    "        x = self.fc3(x)\n",
    "        x = self.relu(x)\n",
    "        action_probs = self.softmax(self.actor(x))\n",
    "        value = self.critic(x)\n",
    "        return action_probs, value\n",
    "    \n",
    "input_dim = 4\n",
    "action_dim = 2\n",
    "\n",
    "input = torch.randn(input_dim)\n",
    "\n",
    "model = ActorCritic(input_dim, action_dim)\n",
    "action_probs, value = model(input)\n",
    "print(\"action probabilities\", action_probs)\n",
    "print(\"value or advantage\", value)\n",
    "\n",
    "summary(model, (input_dim, ))"
   ]
  }
 ],
 "metadata": {
  "language_info": {
   "name": "python"
  }
 },
 "nbformat": 4,
 "nbformat_minor": 2
}
