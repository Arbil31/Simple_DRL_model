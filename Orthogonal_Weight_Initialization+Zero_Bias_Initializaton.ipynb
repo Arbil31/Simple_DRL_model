{
 "cells": [
  {
   "cell_type": "markdown",
   "metadata": {},
   "source": [
    "Orthogonal Weight Initialization (with a specific gain) and Zero Bias Initializaton"
   ]
  },
  {
   "cell_type": "code",
   "execution_count": 2,
   "metadata": {},
   "outputs": [],
   "source": [
    "import torch.nn as nn"
   ]
  },
  {
   "cell_type": "code",
   "execution_count": 3,
   "metadata": {},
   "outputs": [
    {
     "name": "stdout",
     "output_type": "stream",
     "text": [
      "\n",
      "Initializing layer: Linear\n",
      "Before init - weight shape: torch.Size([3, 3])\n",
      "Before init - weight stats: mean = 0.0917, std = 0.3389\n",
      "After init - weight stats: mean = -0.0030, std =  0.0052\n",
      "Bias values: Parameter containing:\n",
      "tensor([0., 0., 0.], requires_grad=True)\n"
     ]
    },
    {
     "data": {
      "text/plain": [
       "Linear(in_features=3, out_features=3, bias=True)"
      ]
     },
     "execution_count": 3,
     "metadata": {},
     "output_type": "execute_result"
    }
   ],
   "source": [
    "def init(module, weight_init, bias_init, gain =1):\n",
    "    weight_init(module.weight.data, gain = gain)\n",
    "    if hasattr(module, 'bias') and module.bias is not None:\n",
    "        bias_init(module.bias.data)\n",
    "    return module\n",
    "\n",
    "def debug_init(module):\n",
    "    print(f\"\\nInitializing layer: {module.__class__.__name__}\")\n",
    "    print(f\"Before init - weight shape: {module.weight.shape}\")\n",
    "    print(f\"Before init - weight stats: mean = {module.weight.mean():.4f}, std = {module.weight.std():.4f}\")\n",
    "\n",
    "    init(module,\n",
    "         nn.init.orthogonal_,\n",
    "         lambda x: nn.init.constant_(x, 0),\n",
    "         gain = 0.01)\n",
    "    print(f\"After init - weight stats: mean = {module.weight.mean():.4f}, std = {module.weight.std(): .4f}\")\n",
    "    if hasattr(module, 'bias'):\n",
    "        print(f\"Bias values: {module.bias}\")\n",
    "\n",
    "    return module\n",
    "\n",
    "layer = nn.Linear(3,3)\n",
    "debug_init(layer)"
   ]
  },
  {
   "cell_type": "code",
   "execution_count": null,
   "metadata": {},
   "outputs": [],
   "source": []
  }
 ],
 "metadata": {
  "kernelspec": {
   "display_name": "Python 3",
   "language": "python",
   "name": "python3"
  },
  "language_info": {
   "codemirror_mode": {
    "name": "ipython",
    "version": 3
   },
   "file_extension": ".py",
   "mimetype": "text/x-python",
   "name": "python",
   "nbconvert_exporter": "python",
   "pygments_lexer": "ipython3",
   "version": "3.13.1"
  }
 },
 "nbformat": 4,
 "nbformat_minor": 2
}
